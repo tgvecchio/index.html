{
 "cells": [
  {
   "cell_type": "code",
   "execution_count": 21,
   "metadata": {
    "scrolled": false
   },
   "outputs": [
    {
     "name": "stdout",
     "output_type": "stream",
     "text": [
      "Requirement already satisfied: newsapi-python in /Library/Frameworks/Python.framework/Versions/3.8/lib/python3.8/site-packages (0.2.6)\n",
      "Requirement already satisfied: requests<3.0.0 in /Library/Frameworks/Python.framework/Versions/3.8/lib/python3.8/site-packages (from newsapi-python) (2.23.0)\n",
      "Requirement already satisfied: idna<3,>=2.5 in /Library/Frameworks/Python.framework/Versions/3.8/lib/python3.8/site-packages (from requests<3.0.0->newsapi-python) (2.9)\n",
      "Requirement already satisfied: chardet<4,>=3.0.2 in /Library/Frameworks/Python.framework/Versions/3.8/lib/python3.8/site-packages (from requests<3.0.0->newsapi-python) (3.0.4)\n",
      "Requirement already satisfied: certifi>=2017.4.17 in /Library/Frameworks/Python.framework/Versions/3.8/lib/python3.8/site-packages (from requests<3.0.0->newsapi-python) (2020.4.5.2)\n",
      "Requirement already satisfied: urllib3!=1.25.0,!=1.25.1,<1.26,>=1.21.1 in /Library/Frameworks/Python.framework/Versions/3.8/lib/python3.8/site-packages (from requests<3.0.0->newsapi-python) (1.25.9)\n",
      "\u001b[33mWARNING: You are using pip version 20.3.3; however, version 21.2.3 is available.\n",
      "You should consider upgrading via the '/Library/Frameworks/Python.framework/Versions/3.8/bin/python3 -m pip install --upgrade pip' command.\u001b[0m\n"
     ]
    },
    {
     "data": {
      "text/html": [
       "<style>.container { width:100% !important; }</style>"
      ],
      "text/plain": [
       "<IPython.core.display.HTML object>"
      ]
     },
     "metadata": {},
     "output_type": "display_data"
    },
    {
     "data": {
      "text/html": [
       "<img src=https://s.abcnews.com/images/Health/new-york-vaccine-mandate-03-ap-jc-210817_1629228737580_hpMain_16x9_992.jpg width=\"100%\" height=\"auto\">"
      ],
      "text/plain": [
       "<IPython.core.display.HTML object>"
      ]
     },
     "metadata": {},
     "output_type": "display_data"
    },
    {
     "data": {
      "text/html": [
       "<img src=https://s.abcnews.com/images/Politics/cardona2-01-ht-iwb-210817_1629226144846_hpMain_16x9_992.jpg width=\"100%\" height=\"auto\">"
      ],
      "text/plain": [
       "<IPython.core.display.HTML object>"
      ]
     },
     "metadata": {},
     "output_type": "display_data"
    },
    {
     "data": {
      "text/html": [
       "<img src=https://s.abcnews.com/images/International/WireAP_1d2b96f57fd0458988ded4e33a3c2c62_16x9_992.jpg width=\"100%\" height=\"auto\">"
      ],
      "text/plain": [
       "<IPython.core.display.HTML object>"
      ]
     },
     "metadata": {},
     "output_type": "display_data"
    },
    {
     "data": {
      "text/html": [
       "<img src=null width=\"100%\" height=\"auto\">"
      ],
      "text/plain": [
       "<IPython.core.display.HTML object>"
      ]
     },
     "metadata": {},
     "output_type": "display_data"
    },
    {
     "data": {
      "text/html": [
       "<img src=null width=\"100%\" height=\"auto\">"
      ],
      "text/plain": [
       "<IPython.core.display.HTML object>"
      ]
     },
     "metadata": {},
     "output_type": "display_data"
    },
    {
     "data": {
      "text/html": [
       "<img src=null width=\"100%\" height=\"auto\">"
      ],
      "text/plain": [
       "<IPython.core.display.HTML object>"
      ]
     },
     "metadata": {},
     "output_type": "display_data"
    },
    {
     "data": {
      "text/html": [
       "<img src=https://s.abcnews.com/images/Politics/WireAP_112eeff8593d4b2ba1c67ec0b226ca41_16x9_992.jpg width=\"100%\" height=\"auto\">"
      ],
      "text/plain": [
       "<IPython.core.display.HTML object>"
      ]
     },
     "metadata": {},
     "output_type": "display_data"
    },
    {
     "data": {
      "text/html": [
       "<img src=https://s.abcnews.com/images/US/ella-french-vigil-02-gty-jc-210817_1629211737770_hpMain_16x9_992.jpg width=\"100%\" height=\"auto\">"
      ],
      "text/plain": [
       "<IPython.core.display.HTML object>"
      ]
     },
     "metadata": {},
     "output_type": "display_data"
    },
    {
     "data": {
      "text/html": [
       "<img src=https://s.abcnews.com/images/US/210817_vod_OnLocation_hpMain_16x9_992.jpg width=\"100%\" height=\"auto\">"
      ],
      "text/plain": [
       "<IPython.core.display.HTML object>"
      ]
     },
     "metadata": {},
     "output_type": "display_data"
    },
    {
     "data": {
      "text/html": [
       "<img src=https://s.abcnews.com/images/Nightline/210817_ntl_afghanistan_2_1256_hpMain_16x9_992.jpg width=\"100%\" height=\"auto\">"
      ],
      "text/plain": [
       "<IPython.core.display.HTML object>"
      ]
     },
     "metadata": {},
     "output_type": "display_data"
    },
    {
     "data": {
      "text/html": [
       "<img src=https://thelogic.co/wp-content/uploads/2018/09/WP_Logo.jpg width=\"100%\" height=\"auto\">"
      ],
      "text/plain": [
       "<IPython.core.display.HTML object>"
      ]
     },
     "metadata": {},
     "output_type": "display_data"
    },
    {
     "data": {
      "text/html": [
       "<img src=https://cdn.mos.cms.futurecdn.net/Z3Gnyu2mnekd9gzokjW8d3-1200-80.jpg width=\"100%\" height=\"auto\">"
      ],
      "text/plain": [
       "<IPython.core.display.HTML object>"
      ]
     },
     "metadata": {},
     "output_type": "display_data"
    },
    {
     "data": {
      "text/html": [
       "<img src=https://cdn.mos.cms.futurecdn.net/wCdvBbeF7ZfigGVfBpFPXE-1200-80.jpg width=\"100%\" height=\"auto\">"
      ],
      "text/plain": [
       "<IPython.core.display.HTML object>"
      ]
     },
     "metadata": {},
     "output_type": "display_data"
    },
    {
     "data": {
      "text/html": [
       "<img src=https://cdn.mos.cms.futurecdn.net/gHHLQdHB78xynJpREoYf8j-1200-80.jpg width=\"100%\" height=\"auto\">"
      ],
      "text/plain": [
       "<IPython.core.display.HTML object>"
      ]
     },
     "metadata": {},
     "output_type": "display_data"
    },
    {
     "data": {
      "text/html": [
       "<img src=https://cdn.mos.cms.futurecdn.net/4xxKRVxGLCkGVZ64qbGmw-1200-80.jpg width=\"100%\" height=\"auto\">"
      ],
      "text/plain": [
       "<IPython.core.display.HTML object>"
      ]
     },
     "metadata": {},
     "output_type": "display_data"
    },
    {
     "data": {
      "text/html": [
       "<img src=https://cdn.mos.cms.futurecdn.net/MVb3eEhjQ9skoyP4Ks59GB-1200-80.jpg width=\"100%\" height=\"auto\">"
      ],
      "text/plain": [
       "<IPython.core.display.HTML object>"
      ]
     },
     "metadata": {},
     "output_type": "display_data"
    },
    {
     "data": {
      "text/html": [
       "<img src=https://cdn.mos.cms.futurecdn.net/TV8J7rcpiN2wVDcgk899jP-1200-80.jpg width=\"100%\" height=\"auto\">"
      ],
      "text/plain": [
       "<IPython.core.display.HTML object>"
      ]
     },
     "metadata": {},
     "output_type": "display_data"
    },
    {
     "data": {
      "text/html": [
       "<img src=https://cdn.mos.cms.futurecdn.net/F5HdSmpocZcCQVcuhJtb6S-1200-80.jpg width=\"100%\" height=\"auto\">"
      ],
      "text/plain": [
       "<IPython.core.display.HTML object>"
      ]
     },
     "metadata": {},
     "output_type": "display_data"
    },
    {
     "data": {
      "text/html": [
       "<img src=https://cdn.mos.cms.futurecdn.net/tN4HoSnacR4tAfxzviqFhM-1200-80.jpg width=\"100%\" height=\"auto\">"
      ],
      "text/plain": [
       "<IPython.core.display.HTML object>"
      ]
     },
     "metadata": {},
     "output_type": "display_data"
    },
    {
     "data": {
      "text/html": [
       "<img src=https://cdn.mos.cms.futurecdn.net/5fVsjCXhQLN6LmUs2Dby5f-1200-80.jpg width=\"100%\" height=\"auto\">"
      ],
      "text/plain": [
       "<IPython.core.display.HTML object>"
      ]
     },
     "metadata": {},
     "output_type": "display_data"
    },
    {
     "data": {
      "text/html": [
       "<img src=https://cdn.mos.cms.futurecdn.net/UDrEPkUVPKKrGGSzGPfgdW-1200-80.jpg width=\"100%\" height=\"auto\">"
      ],
      "text/plain": [
       "<IPython.core.display.HTML object>"
      ]
     },
     "metadata": {},
     "output_type": "display_data"
    },
    {
     "data": {
      "text/html": [
       "<img src=https://www.nationalgeographic.com/content/dam/archaeologyandhistory/2021/02/stonehenge-waun-mawn/05-waun-mawn-stonehenge.jpg width=\"100%\" height=\"auto\">"
      ],
      "text/plain": [
       "<IPython.core.display.HTML object>"
      ]
     },
     "metadata": {},
     "output_type": "display_data"
    },
    {
     "data": {
      "text/html": [
       " <span style=\"color:red\"><h1>3-ton parts of Stonehenge may have been carried from earlier monuments</h1> </span>  "
      ],
      "text/plain": [
       "<IPython.core.display.HTML object>"
      ]
     },
     "metadata": {},
     "output_type": "display_data"
    },
    {
     "name": "stdout",
     "output_type": "stream",
     "text": [
      "2021-02-17T14:37:24.3386254Z // Years of archaeological research now suggest that Neolithic Britons lugged massive elements of the iconic monument from far-flung reaches of the island. // // <a> https://www.nationalgeographic.com/history/2021/02/3-ton-parts-stonehenge-may-carried-from-earlier-monuments.html\n"
     ]
    },
    {
     "data": {
      "text/html": [
       "<img src=https://www.nationalgeographic.com/content/dam/travel/2021-digital/black-family-travel/black-family-travel-2.jpg width=\"100%\" height=\"auto\">"
      ],
      "text/plain": [
       "<IPython.core.display.HTML object>"
      ]
     },
     "metadata": {},
     "output_type": "display_data"
    },
    {
     "data": {
      "text/html": [
       " <span style=\"color:red\"><h1>Families are leading a new wave in Black travel. Here’s why</h1> </span>  "
      ],
      "text/plain": [
       "<IPython.core.display.HTML object>"
      ]
     },
     "metadata": {},
     "output_type": "display_data"
    },
    {
     "name": "stdout",
     "output_type": "stream",
     "text": [
      "2021-02-17T14:37:24.3073832Z // For many parents, showing their kids the world is about both the past and the future. // // <a> https://www.nationalgeographic.com/travel/2021/02/the-importance-of-travel-for-black-families.html\n"
     ]
    },
    {
     "data": {
      "text/html": [
       "<img src=https://www.nationalgeographic.com/content/dam/ngdotcom/rights-exempt/podcasts/Overheard/season5/bonusBHM/collage-3portraits2.jpg width=\"100%\" height=\"auto\">"
      ],
      "text/plain": [
       "<IPython.core.display.HTML object>"
      ]
     },
     "metadata": {},
     "output_type": "display_data"
    },
    {
     "data": {
      "text/html": [
       " <span style=\"color:red\"><h1>Bonus Episode: In Conversation: Reframing Black History and Culture</h1> </span>  "
      ],
      "text/plain": [
       "<IPython.core.display.HTML object>"
      ]
     },
     "metadata": {},
     "output_type": "display_data"
    },
    {
     "name": "stdout",
     "output_type": "stream",
     "text": [
      "2021-02-17T14:37:22.7296515Z // National Geographic presents In Conversation, a special podcast episode featuring explorer Tara Roberts, computer scientist Gloria Washington, and photographer Ruddy Roye. Through their dynamic work across maritime archeology, artificial intelligence, and pho… // // <a> https://www.nationalgeographic.com/podcasts/overheard/season-5/bonus-conversation-reframing-black-history-culture-month.html\n"
     ]
    },
    {
     "data": {
      "text/html": [
       "<img src=https://www.nationalgeographic.com/content/dam/video/rights-exempt/og/nge-mapping-mars-2021-1.jpg width=\"100%\" height=\"auto\">"
      ],
      "text/plain": [
       "<IPython.core.display.HTML object>"
      ]
     },
     "metadata": {},
     "output_type": "display_data"
    },
    {
     "data": {
      "text/html": [
       " <span style=\"color:red\"><h1>Why mapping Mars completely changed how we see it</h1> </span>  "
      ],
      "text/plain": [
       "<IPython.core.display.HTML object>"
      ]
     },
     "metadata": {},
     "output_type": "display_data"
    },
    {
     "name": "stdout",
     "output_type": "stream",
     "text": [
      "2021-02-17T14:37:21.4174778Z // Mars has drawn our attention for millennia, and it was when we started mapping the planet that we began to see it as a place, and a destination. Early mapmaking led to scientific discoveries—and a few far-fetched theories—which changed how we see the planet t… // // <a> https://www.nationalgeographic.com/science/2021/02/why-mapping-mars-completely-changed-how-we-see-it.html\n"
     ]
    },
    {
     "data": {
      "text/html": [
       "<img src=https://pmdvod.nationalgeographic.com/NG_Video/788/579/smpost_1612381336455.jpg width=\"100%\" height=\"auto\">"
      ],
      "text/plain": [
       "<IPython.core.display.HTML object>"
      ]
     },
     "metadata": {},
     "output_type": "display_data"
    },
    {
     "data": {
      "text/html": [
       " <span style=\"color:red\"><h1>How these feuding map-makers shaped our fascination with Mars</h1> </span>  "
      ],
      "text/plain": [
       "<IPython.core.display.HTML object>"
      ]
     },
     "metadata": {},
     "output_type": "display_data"
    },
    {
     "name": "stdout",
     "output_type": "stream",
     "text": [
      "2021-02-17T14:37:21.3706142Z // One was an artist who loved space. His rival was a bold professional astronomer. Their race to map the red planet sparked decades of science and speculation. // // <a> https://www.nationalgeographic.com/science/2021/02/how-feuding-map-makers-shaped-our-fascination-with-mars.html\n"
     ]
    },
    {
     "data": {
      "text/html": [
       "<img src=https://www.nationalgeographic.com/content/dam/science/commercial/2021/domestic/Knightscope/knightscope_dsc02447.jpg width=\"100%\" height=\"auto\">"
      ],
      "text/plain": [
       "<IPython.core.display.HTML object>"
      ]
     },
     "metadata": {},
     "output_type": "display_data"
    },
    {
     "data": {
      "text/html": [
       " <span style=\"color:red\"><h1>Can robots help keep us safe?</h1> </span>  "
      ],
      "text/plain": [
       "<IPython.core.display.HTML object>"
      ]
     },
     "metadata": {},
     "output_type": "display_data"
    },
    {
     "name": "stdout",
     "output_type": "stream",
     "text": [
      "2021-02-17T14:37:21.3081297Z // Automated machines are increasingly common—here’s where you might see them next. // // <a> https://www.nationalgeographic.com/science/2021/01/paid-content-can-robots-keep-us-safe.html\n"
     ]
    },
    {
     "data": {
      "text/html": [
       "<img src=https://www.nationalgeographic.com/content/dam/science/2021/01/25/vaccine-tracker/vaccine-1230603423.jpg width=\"100%\" height=\"auto\">"
      ],
      "text/plain": [
       "<IPython.core.display.HTML object>"
      ]
     },
     "metadata": {},
     "output_type": "display_data"
    },
    {
     "data": {
      "text/html": [
       " <span style=\"color:red\"><h1>U.S. has secured 200 million more doses of COVID-19 vaccines</h1> </span>  "
      ],
      "text/plain": [
       "<IPython.core.display.HTML object>"
      ]
     },
     "metadata": {},
     "output_type": "display_data"
    },
    {
     "name": "stdout",
     "output_type": "stream",
     "text": [
      "2021-02-17T14:37:20.9270628Z // These are the COVID-19 vaccine prospects that have made it to phase three trials and beyond. // // <a> https://www.nationalgeographic.com/science/health-and-human-body/human-diseases/coronavirus-vaccine-tracker-how-they-work-latest-developments-cvd.html\n"
     ]
    },
    {
     "data": {
      "text/html": [
       "<img src=https://www.nationalgeographic.com/content/dam/travel/commercial/2021/NGPAsia/PDOT/Article3/double-outrigger-boats-called-banca-in-palawan-philippines.jpg width=\"100%\" height=\"auto\">"
      ],
      "text/plain": [
       "<IPython.core.display.HTML object>"
      ]
     },
     "metadata": {},
     "output_type": "display_data"
    },
    {
     "data": {
      "text/html": [
       " <span style=\"color:red\"><h1>Go island-hopping in Palawan, the Philippines</h1> </span>  "
      ],
      "text/plain": [
       "<IPython.core.display.HTML object>"
      ]
     },
     "metadata": {},
     "output_type": "display_data"
    },
    {
     "name": "stdout",
     "output_type": "stream",
     "text": [
      "2021-02-17T14:37:20.8312161Z // With a dazzling array of activities and safety protocols in place, this leafy archipelago could be a good option for a “new normal” getaway. // // <a> https://www.nationalgeographic.com/travel/destinations/asia/philippines/partner-content-go-island-hopping-in-Palawan-Philippines.html\n"
     ]
    },
    {
     "data": {
      "text/html": [
       "<img src=https://www.nationalgeographic.com/content/dam/travel/commercial/2021/NGPAsia/Meiji/Article3/invoking-taste.jpg width=\"100%\" height=\"auto\">"
      ],
      "text/plain": [
       "<IPython.core.display.HTML object>"
      ]
     },
     "metadata": {},
     "output_type": "display_data"
    },
    {
     "data": {
      "text/html": [
       " <span style=\"color:red\"><h1>A new sensation: recording and reproducing taste</h1> </span>  "
      ],
      "text/plain": [
       "<IPython.core.display.HTML object>"
      ]
     },
     "metadata": {},
     "output_type": "display_data"
    },
    {
     "name": "stdout",
     "output_type": "stream",
     "text": [
      "2021-02-17T14:37:20.746352Z // Meiji University scientist has found a way to reproduce taste, just as we’ve long been able to do for sight and sound. // // <a> https://www.nationalgeographic.com/science/2021/02/partner-content-recording-and-reproducing-taste.html\n"
     ]
    },
    {
     "data": {
      "text/html": [
       "<img src=https://www.nationalgeographic.com/content/dam/ngdotcom/rights-exempt/podcasts/Overheard/season5/episode3/nationalgeographic_2708459.jpg width=\"100%\" height=\"auto\">"
      ],
      "text/plain": [
       "<IPython.core.display.HTML object>"
      ]
     },
     "metadata": {},
     "output_type": "display_data"
    },
    {
     "data": {
      "text/html": [
       " <span style=\"color:red\"><h1>Episode 3: Why War Zones Need Science Too</h1> </span>  "
      ],
      "text/plain": [
       "<IPython.core.display.HTML object>"
      ]
     },
     "metadata": {},
     "output_type": "display_data"
    },
    {
     "name": "stdout",
     "output_type": "stream",
     "text": [
      "2021-02-17T14:37:20.2759318Z // Undaunted by Yemen’s civil war, National Geographic explorer Ella Al-Shamahi searches on the island of Socotra for traces of the earliest known humans to leave Africa. // // <a> https://www.nationalgeographic.com/podcasts/overheard/season-5/episode-3-why-war-zones-need-science.html\n"
     ]
    }
   ],
   "source": [
    "!pip install newsapi-python;\n",
    "import random\n",
    "from IPython.display import display, HTML\n",
    "display(HTML(\"<style>.container { width:100% !important; }</style>\"))\n",
    "from newsapi import NewsApiClient\n",
    "apis = ('f5f7ae594ad34dadbe4c0557dc6ed08d','3dec73d81a554590b4a31773ead72a3b','094187de74f94946a2b43ef202a3aa12')\n",
    "api = NewsApiClient(api_key=random.choice(apis))\n",
    "ids = ('abc-news',\n",
    " 'al-jazeera-english',\n",
    " 'ars-technica',\n",
    " 'bbc-news',\n",
    " 'bloomberg',\n",
    " 'business-insider-uk',\n",
    " 'buzzfeed',\n",
    " 'cbc-news',\n",
    " 'cbs-news',\n",
    " 'cnn',\n",
    " 'engadget',\n",
    " 'entertainment-weekly',\n",
    " 'espn',\n",
    " 'financial-post',\n",
    " 'fortune',\n",
    " 'four-four-two',\n",
    " 'fox-news',\n",
    " 'google-news',\n",
    " 'google-news-uk',\n",
    " 'hacker-news',\n",
    " 'independent',\n",
    " 'mashable',\n",
    " 'medical-news-today',\n",
    " 'msnbc',\n",
    " 'national-geographic',\n",
    " 'nbc-news',\n",
    " 'news24',\n",
    " 'new-scientist',\n",
    " 'newsweek',\n",
    " 'new-york-magazine',\n",
    " 'next-big-future',\n",
    " 'politico',\n",
    " 'polygon',\n",
    " 'recode',\n",
    " 'reuters',\n",
    " 'rte',\n",
    " 'techcrunch',\n",
    " 'techradar',\n",
    " 'the-globe-and-mail',\n",
    " 'the-hill',\n",
    " 'the-huffington-post',\n",
    " 'the-irish-times',\n",
    " 'the-next-web',\n",
    " 'the-verge',\n",
    " 'the-wall-street-journal',\n",
    " 'the-washington-post',\n",
    " 'the-washington-times',\n",
    " 'time',\n",
    " 'usa-today',\n",
    " 'vice-news',\n",
    " 'wired')\n",
    "\n",
    "try:\n",
    "    for i in random.sample(ids, 4):\n",
    "        njson = api.get_top_headlines(sources=i)\n",
    "        for i in njson['articles']:\n",
    "            if i['urlToImage'] != None:\n",
    "                string = ('<img src=' + i['urlToImage'] + ' width=\"100%\" height=\"auto\">')\n",
    "                display(HTML(string))\n",
    "                if i['publishedAt'] == None:\n",
    "                    string1 = (' <span style=\"color:red\"><h1>'  + i['title'] +'</h1> </span>  ')\n",
    "                    display(HTML(string1))\n",
    "                    print('//', i['description'], '//', i['content'], '//', '<a>', i['url'])\n",
    "                elif i['description'] == None:\n",
    "                    string1 = (' <span style=\"color:red\"><h1>'  + i['title'] +'</h1> </span>  ')\n",
    "                    display(HTML(string1))\n",
    "                    print(i['publishedAt'], '//', '//', i['content'], '//', '<a>', i['url'])\n",
    "                elif i['content'] == None:\n",
    "                    string1 = (' <span style=\"color:red\"><h1>' + i['title'] +'</h1> </span>  ')\n",
    "                    display(HTML(string1))\n",
    "                    print(i['publishedAt'], '//', i['description'], '//', '//', '<a>', i['url'])\n",
    "                else:\n",
    "                    string1 = (' <span style=\"color:red\"><h1>'  + i['title'] +'</h1> </span>  ')\n",
    "                    display(HTML(string1))\n",
    "                    print(i['publishedAt'],'//', i['description'], '//', i['content'], '//', '<a>', i['url']) \n",
    "            else:\n",
    "                string1 = (' <span style=\"color:red\"><h1>'  + i['title'] +'</h1> </span>  ')\n",
    "                display(HTML(string1))\n",
    "                print('<a>', i['url'])\n",
    "                \n",
    "except TypeError:\n",
    "    pass"
   ]
  },
  {
   "cell_type": "code",
   "execution_count": null,
   "metadata": {},
   "outputs": [],
   "source": []
  }
 ],
 "metadata": {
  "kernelspec": {
   "display_name": "Python 3",
   "language": "python",
   "name": "python3"
  },
  "language_info": {
   "codemirror_mode": {
    "name": "ipython",
    "version": 3
   },
   "file_extension": ".py",
   "mimetype": "text/x-python",
   "name": "python",
   "nbconvert_exporter": "python",
   "pygments_lexer": "ipython3",
   "version": "3.8.3"
  }
 },
 "nbformat": 4,
 "nbformat_minor": 4
}
