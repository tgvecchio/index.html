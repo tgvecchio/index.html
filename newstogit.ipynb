{
 "cells": [
  {
   "cell_type": "code",
   "execution_count": 4,
   "metadata": {},
   "outputs": [],
   "source": [
    "#!pip install newsapi-python\n",
    "#!pip install pandas"
   ]
  },
  {
   "cell_type": "code",
   "execution_count": 5,
   "metadata": {},
   "outputs": [
    {
     "data": {
      "text/html": [
       "<style>.container { width:100% !important; }</style>"
      ],
      "text/plain": [
       "<IPython.core.display.HTML object>"
      ]
     },
     "metadata": {},
     "output_type": "display_data"
    }
   ],
   "source": [
    "import random\n",
    "from IPython.display import display, HTML\n",
    "display(HTML(\"<style>.container { width:100% !important; }</style>\"))\n",
    "\n",
    "import pandas as pd\n",
    "from newsapi import NewsApiClient\n",
    "#gmail\n",
    "#api = NewsApiClient(api_key='f5f7ae594ad34dadbe4c0557dc6ed08d')\n",
    "#hotmail\n",
    "#api = NewsApiClient(api_key='3dec73d81a554590b4a31773ead72a3b')\n",
    "#gu\n",
    "#api = NewsApiClient(api_key='094187de74f94946a2b43ef202a3aa12')\n",
    "\n",
    "apis = ('f5f7ae594ad34dadbe4c0557dc6ed08d','3dec73d81a554590b4a31773ead72a3b','094187de74f94946a2b43ef202a3aa12')\n",
    "api = NewsApiClient(api_key=random.choice(apis))"
   ]
  },
  {
   "cell_type": "code",
   "execution_count": 6,
   "metadata": {},
   "outputs": [],
   "source": [
    "idsx = ('abc-news',\n",
    " 'al-jazeera-english',\n",
    " 'ars-technica',\n",
    " 'bbc-news',\n",
    " 'bloomberg',\n",
    " 'business-insider-uk',\n",
    " 'buzzfeed',\n",
    " 'cbc-news',\n",
    " 'cbs-news',\n",
    " 'cnn',\n",
    " 'engadget',\n",
    " 'entertainment-weekly',\n",
    " 'espn',\n",
    " 'financial-post',\n",
    " 'fortune',\n",
    " 'four-four-two',\n",
    " 'fox-news',\n",
    " 'google-news',\n",
    " 'google-news-uk',\n",
    " 'hacker-news',\n",
    " 'independent',\n",
    " 'mashable',\n",
    " 'medical-news-today',\n",
    " 'msnbc',\n",
    " 'national-geographic',\n",
    " 'nbc-news',\n",
    " 'news24',\n",
    " 'new-scientist',\n",
    " 'newsweek',\n",
    " 'new-york-magazine',\n",
    " 'next-big-future',\n",
    " 'politico',\n",
    " 'polygon',\n",
    " 'recode',\n",
    " 'reuters',\n",
    " 'rte',\n",
    " 'techcrunch',\n",
    " 'techradar',\n",
    " 'the-globe-and-mail',\n",
    " 'the-hill',\n",
    " 'the-huffington-post',\n",
    " 'the-irish-times',\n",
    " 'the-next-web',\n",
    " 'the-verge',\n",
    " 'the-wall-street-journal',\n",
    " 'the-washington-post',\n",
    " 'the-washington-times',\n",
    " 'time',\n",
    " 'usa-today',\n",
    " 'vice-news',\n",
    " 'wired')"
   ]
  },
  {
   "cell_type": "code",
   "execution_count": 39,
   "metadata": {
    "scrolled": true
   },
   "outputs": [
    {
     "data": {
      "text/html": [
       "<img src=https://s.abcnews.com/images/Politics/cardona2-01-ht-iwb-210817_1629226144846_hpMain_16x9_992.jpg width=\"100%\" height=\"auto\">"
      ],
      "text/plain": [
       "<IPython.core.display.HTML object>"
      ]
     },
     "metadata": {},
     "output_type": "display_data"
    },
    {
     "data": {
      "text/html": [
       " <span style=\"color:red\"><h1>Education secretary says he's spoken with schools defying mask mandate bans</h1> </span>  "
      ],
      "text/plain": [
       "<IPython.core.display.HTML object>"
      ]
     },
     "metadata": {},
     "output_type": "display_data"
    },
    {
     "name": "stdout",
     "output_type": "stream",
     "text": [
      "2021-08-17T21:16:21Z //  // Education Secretary Miguel Cardona said he's in touch with superintendents who are actively defying Florida and Texas governors' orders not to mandate masks in schools and will have their back should… [+4457 chars] // https://abcnews.go.com/Politics/education-secretary-spoken-schools-defying-mask-mandate-bans/story?id=79503318\n"
     ]
    },
    {
     "data": {
      "text/html": [
       "<img src=null width=\"100%\" height=\"auto\">"
      ],
      "text/plain": [
       "<IPython.core.display.HTML object>"
      ]
     },
     "metadata": {},
     "output_type": "display_data"
    },
    {
     "data": {
      "text/html": [
       " <span style=\"color:red\"><h1>Massive Alaska quake eyed as cause for sunken ship's leak</h1> </span>  "
      ],
      "text/plain": [
       "<IPython.core.display.HTML object>"
      ]
     },
     "metadata": {},
     "output_type": "display_data"
    },
    {
     "name": "stdout",
     "output_type": "stream",
     "text": [
      "2021-08-17T18:47:35Z //  // JUNEAU, Alaska -- A ship that sank off Kodiak Island four decades ago has started to leak diesel fuel, and a state official suspects ground shaking from last months massive magnitude 8.2 earthquake m… [+1736 chars] // https://abcnews.go.com/Technology/wireStory/massive-alaska-quake-eyed-sunken-ships-leak-79503752\n"
     ]
    },
    {
     "data": {
      "text/html": [
       "<img src=null width=\"100%\" height=\"auto\">"
      ],
      "text/plain": [
       "<IPython.core.display.HTML object>"
      ]
     },
     "metadata": {},
     "output_type": "display_data"
    },
    {
     "data": {
      "text/html": [
       " <span style=\"color:red\"><h1>Lawsuit: Mixup keeps family at gunpoint near Yellowstone</h1> </span>  "
      ],
      "text/plain": [
       "<IPython.core.display.HTML object>"
      ]
     },
     "metadata": {},
     "output_type": "display_data"
    },
    {
     "name": "stdout",
     "output_type": "stream",
     "text": [
      "2021-08-17T18:46:42Z //  // CHEYENNE, Wyo. -- Yellowstone National Park rangers and Wyoming sheriff's deputies seeking a murder suspect held a vacationing family at gunpoint without adequate cause for an hour, a lawsuit claims.… [+1955 chars] // https://abcnews.go.com/US/wireStory/lawsuit-mixup-family-gunpoint-yellowstone-79503751\n"
     ]
    },
    {
     "data": {
      "text/html": [
       "<img src=null width=\"100%\" height=\"auto\">"
      ],
      "text/plain": [
       "<IPython.core.display.HTML object>"
      ]
     },
     "metadata": {},
     "output_type": "display_data"
    },
    {
     "data": {
      "text/html": [
       " <span style=\"color:red\"><h1>Serbian president challenges Twitter: 'Delete my account!'</h1> </span>  "
      ],
      "text/plain": [
       "<IPython.core.display.HTML object>"
      ]
     },
     "metadata": {},
     "output_type": "display_data"
    },
    {
     "name": "stdout",
     "output_type": "stream",
     "text": [
      "2021-08-17T18:43:11Z //  // BELGRADE, Serbia -- Serbias autocratic leader Aleksandar Vucic challenged Twitter on Tuesday to close his account like it did with Donald Trumps, after several media outlets under his control were la… [+1467 chars] // https://abcnews.go.com/International/wireStory/serbian-president-challenges-twitter-delete-account-79503716\n"
     ]
    },
    {
     "data": {
      "text/html": [
       "<img src=https://s.abcnews.com/images/Politics/WireAP_112eeff8593d4b2ba1c67ec0b226ca41_16x9_992.jpg width=\"100%\" height=\"auto\">"
      ],
      "text/plain": [
       "<IPython.core.display.HTML object>"
      ]
     },
     "metadata": {},
     "output_type": "display_data"
    },
    {
     "data": {
      "text/html": [
       " <span style=\"color:red\"><h1>Georgia board to tap election review panel for Fulton County</h1> </span>  "
      ],
      "text/plain": [
       "<IPython.core.display.HTML object>"
      ]
     },
     "metadata": {},
     "output_type": "display_data"
    },
    {
     "name": "stdout",
     "output_type": "stream",
     "text": [
      "2021-08-17T18:30:30Z //  // ATLANTA -- The Georgia State Board of Elections plans to appoint a review panel this week as part of a process that could lead to a takeover of elections in the state's most populous county under a p… [+4808 chars] // https://abcnews.go.com/Politics/wireStory/georgia-board-tap-election-review-panel-fulton-county-79503159\n"
     ]
    },
    {
     "data": {
      "text/html": [
       "<img src=https://s.abcnews.com/images/GMA/live-nation-concert-01-gty-iwb-210817_1629218944037_hpMain_16x9_992.jpg width=\"100%\" height=\"auto\">"
      ],
      "text/plain": [
       "<IPython.core.display.HTML object>"
      ]
     },
     "metadata": {},
     "output_type": "display_data"
    },
    {
     "data": {
      "text/html": [
       " <span style=\"color:red\"><h1>Live Nation to require proof of vaccination or negative COVID test for concertgoers</h1> </span>  "
      ],
      "text/plain": [
       "<IPython.core.display.HTML object>"
      ]
     },
     "metadata": {},
     "output_type": "display_data"
    },
    {
     "name": "stdout",
     "output_type": "stream",
     "text": [
      "2021-08-17T17:32:50Z //  // Live Nation recently announced that proof of vaccination or a negative COVID-19 test will be required for entry to any Live Nation owned and operated venue or festival in the U.S. this fall.\r\n",
      "The com… [+1225 chars] // https://abcnews.go.com/GMA/Culture/live-nation-require-proof-vaccination-negative-covid-test/story?id=79497439\n"
     ]
    },
    {
     "data": {
      "text/html": [
       "<img src=https://s.abcnews.com/images/US/ella-french-vigil-02-gty-jc-210817_1629211737770_hpMain_16x9_992.jpg width=\"100%\" height=\"auto\">"
      ],
      "text/plain": [
       "<IPython.core.display.HTML object>"
      ]
     },
     "metadata": {},
     "output_type": "display_data"
    },
    {
     "data": {
      "text/html": [
       " <span style=\"color:red\"><h1>Judge bars release of bodycam video in fatal shooting of Chicago police officer</h1> </span>  "
      ],
      "text/plain": [
       "<IPython.core.display.HTML object>"
      ]
     },
     "metadata": {},
     "output_type": "display_data"
    },
    {
     "name": "stdout",
     "output_type": "stream",
     "text": [
      "2021-08-17T16:02:28Z //  // A judge has temporarily barred Chicago authorities from releasing body camera video, described by a prosecutor in chilling detail, of Chicago police Officer Ella French being gunned down during a tra… [+3025 chars] // https://abcnews.go.com/US/judge-bars-release-bodycam-video-fatal-shooting-chicago/story?id=79498389\n"
     ]
    },
    {
     "data": {
      "text/html": [
       "<img src=https://s.abcnews.com/images/US/210817_vod_OnLocation_hpMain_16x9_992.jpg width=\"100%\" height=\"auto\">"
      ],
      "text/plain": [
       "<IPython.core.display.HTML object>"
      ]
     },
     "metadata": {},
     "output_type": "display_data"
    },
    {
     "data": {
      "text/html": [
       " <span style=\"color:red\"><h1>Man sentenced for attacking Black neighbors' Michigan home</h1> </span>  "
      ],
      "text/plain": [
       "<IPython.core.display.HTML object>"
      ]
     },
     "metadata": {},
     "output_type": "display_data"
    },
    {
     "name": "stdout",
     "output_type": "stream",
     "text": [
      "2021-08-17T15:56:10Z //  // MOUNT CLEMENS, Mich. -- A white neighbor who shot at a Black family's Michigan home, slashed tires on a vehicle and wrote racist graffiti on a pickup truck, told a judge Monday that he did it because… [+2160 chars] // https://abcnews.go.com/US/wireStory/man-sentenced-attacking-black-neighbors-michigan-home-79500746\n"
     ]
    },
    {
     "data": {
      "text/html": [
       "<img src=https://s.abcnews.com/images/GMA/210817_gma_pilgrim_0713_hpMain_16x9_992.jpg width=\"100%\" height=\"auto\">"
      ],
      "text/plain": [
       "<IPython.core.display.HTML object>"
      ]
     },
     "metadata": {},
     "output_type": "display_data"
    },
    {
     "data": {
      "text/html": [
       " <span style=\"color:red\"><h1>NYC begins requiring proof of vaccination at eateries, gyms</h1> </span>  "
      ],
      "text/plain": [
       "<IPython.core.display.HTML object>"
      ]
     },
     "metadata": {},
     "output_type": "display_data"
    },
    {
     "name": "stdout",
     "output_type": "stream",
     "text": [
      "2021-08-17T15:02:08Z //  // NEW YORK -- Notices taped to the windows and front door of the Stop Inn, a diner in Queens, made it clear the eatery would comply with the city's new edict against the coronavirus: All patrons dining… [+4205 chars] // https://abcnews.go.com/Health/wireStory/nyc-begins-requiring-proof-vaccination-eateries-gyms-79499763\n"
     ]
    },
    {
     "data": {
      "text/html": [
       "<img src=https://s.abcnews.com/images/Nightline/210817_ntl_afghanistan_2_1256_hpMain_16x9_992.jpg width=\"100%\" height=\"auto\">"
      ],
      "text/plain": [
       "<IPython.core.display.HTML object>"
      ]
     },
     "metadata": {},
     "output_type": "display_data"
    },
    {
     "data": {
      "text/html": [
       " <span style=\"color:red\"><h1>NATO chief: Afghan leaders responsible for military collapse</h1> </span>  "
      ],
      "text/plain": [
       "<IPython.core.display.HTML object>"
      ]
     },
     "metadata": {},
     "output_type": "display_data"
    },
    {
     "name": "stdout",
     "output_type": "stream",
     "text": [
      "2021-08-17T13:35:43Z //  // BRUSSELS -- NATO Secretary-General Jens Stoltenberg is blaming a failure of Afghan leadership for the swift collapse of the countrys armed forces but says the alliance must also uncover flaws in its … [+773 chars] // https://abcnews.go.com/International/wireStory/nato-chief-afghan-leaders-responsible-military-collapse-79498065\n"
     ]
    },
    {
     "data": {
      "text/html": [
       "<img src=https://www.aljazeera.com/wp-content/uploads/2021/08/P1180439.jpg?resize=1200%2C630 width=\"100%\" height=\"auto\">"
      ],
      "text/plain": [
       "<IPython.core.display.HTML object>"
      ]
     },
     "metadata": {},
     "output_type": "display_data"
    },
    {
     "data": {
      "text/html": [
       " <span style=\"color:red\"><h1>Thousands of Afghans enter Pakistan via Chaman border crossing</h1> </span>  "
      ],
      "text/plain": [
       "<IPython.core.display.HTML object>"
      ]
     },
     "metadata": {},
     "output_type": "display_data"
    },
    {
     "name": "stdout",
     "output_type": "stream",
     "text": [
      "2021-08-17T20:35:46Z // Medical patients and freed Afghan Taliban prisoners among thousands entering Pakistan from Afghanistan. // Chaman, Pakistan Thousands of Afghans have entered Pakistan through the Spin Boldak/Chaman border crossing in Afghanistans southeast after the Afghan Talibans takeover of the country earlier this wee… [+6104 chars] // http://www.aljazeera.com/news/2021/8/17/thousands-of-afghans-enter-pakistan-through-chaman-border-point\n"
     ]
    },
    {
     "data": {
      "text/html": [
       "<img src=https://www.aljazeera.com/images/logo_aje_social.png width=\"100%\" height=\"auto\">"
      ],
      "text/plain": [
       "<IPython.core.display.HTML object>"
      ]
     },
     "metadata": {},
     "output_type": "display_data"
    },
    {
     "data": {
      "text/html": [
       " <span style=\"color:red\"><h1>Inside Story | Programs Site Menu Title | Al Jazeera</h1> </span>  "
      ],
      "text/plain": [
       "<IPython.core.display.HTML object>"
      ]
     },
     "metadata": {},
     "output_type": "display_data"
    },
    {
     "name": "stdout",
     "output_type": "stream",
     "text": [
      "2021-08-17T20:22:37.720687Z //  // Abiy Ahmed urges all capable citizens to join the military and stop Tigrays rebels once and for all. // http://www.aljazeera.com/program/inside-story\n"
     ]
    },
    {
     "data": {
      "text/html": [
       "<img src=https://www.aljazeera.com/wp-content/uploads/2021/08/AP21229660137141.jpg?resize=1024%2C630 width=\"100%\" height=\"auto\">"
      ],
      "text/plain": [
       "<IPython.core.display.HTML object>"
      ]
     },
     "metadata": {},
     "output_type": "display_data"
    },
    {
     "data": {
      "text/html": [
       " <span style=\"color:red\"><h1>Taliban agreed to allow ‘safe passage’ to airport, US says</h1> </span>  "
      ],
      "text/plain": [
       "<IPython.core.display.HTML object>"
      ]
     },
     "metadata": {},
     "output_type": "display_data"
    },
    {
     "name": "stdout",
     "output_type": "stream",
     "text": [
      "2021-08-17T20:17:44Z // Washington has a channel with Taliban to ‘resolve issues’ around access to airport, says top US official. // The Taliban has told the US administration that it will allow a safe passage to the airport in Kabul, which remains under the control of American forces, US National Security Adviser Jake Sullivan sa… [+4389 chars] // http://www.aljazeera.com/news/2021/8/17/taliban-agreed-to-allow-safe-passage-to-airport-us-says\n"
     ]
    },
    {
     "data": {
      "text/html": [
       "<img src=https://www.aljazeera.com/wp-content/uploads/2021/08/image-44.jpg?resize=1200%2C630 width=\"100%\" height=\"auto\">"
      ],
      "text/plain": [
       "<IPython.core.display.HTML object>"
      ]
     },
     "metadata": {},
     "output_type": "display_data"
    },
    {
     "data": {
      "text/html": [
       " <span style=\"color:red\"><h1>Will Joe Biden pay a political price for Afghanistan?</h1> </span>  "
      ],
      "text/plain": [
       "<IPython.core.display.HTML object>"
      ]
     },
     "metadata": {},
     "output_type": "display_data"
    },
    {
     "name": "stdout",
     "output_type": "stream",
     "text": [
      "2021-08-17T20:11:52Z // Uncertainty and fear grips parts of Afghanistan as Taliban returns to power after 20 years. // Uncertainty and fear grips parts of Afghanistan as Taliban returns to power after 20 years. // http://www.aljazeera.com/program/inside-story/2021/8/17/will-joe-biden-pay-a-political-price-for-afghanistan\n"
     ]
    },
    {
     "data": {
      "text/html": [
       "<img src=https://www.aljazeera.com/wp-content/uploads/2020/01/7c74d726352f4634b11e777167e45ac2_18.jpeg?fit=1000%2C562 width=\"100%\" height=\"auto\">"
      ],
      "text/plain": [
       "<IPython.core.display.HTML object>"
      ]
     },
     "metadata": {},
     "output_type": "display_data"
    },
    {
     "data": {
      "text/html": [
       " <span style=\"color:red\"><h1>EU says will work with Taliban only if rights are respected</h1> </span>  "
      ],
      "text/plain": [
       "<IPython.core.display.HTML object>"
      ]
     },
     "metadata": {},
     "output_type": "display_data"
    },
    {
     "name": "stdout",
     "output_type": "stream",
     "text": [
      "2021-08-17T19:14:03Z // Josep Borrell says cooperation with future Afghan gov’t conditional on respect for rights and international obligations. // The European Union will only cooperate with the Afghan government following the Talibans return to power if it respects fundamental rights, including those of women, and prevents the use of Afghanist… [+1697 chars] // http://www.aljazeera.com/news/2021/8/17/eu-says-will-work-with-taliban-only-if-rights-are-respected\n"
     ]
    },
    {
     "data": {
      "text/html": [
       "<img src=https://www.aljazeera.com/wp-content/uploads/2021/08/000_9LA47E.jpg?resize=1200%2C630 width=\"100%\" height=\"auto\">"
      ],
      "text/plain": [
       "<IPython.core.display.HTML object>"
      ]
     },
     "metadata": {},
     "output_type": "display_data"
    },
    {
     "data": {
      "text/html": [
       " <span style=\"color:red\"><h1>Taliban says will respect women’s rights, press freedom</h1> </span>  "
      ],
      "text/plain": [
       "<IPython.core.display.HTML object>"
      ]
     },
     "metadata": {},
     "output_type": "display_data"
    },
    {
     "name": "stdout",
     "output_type": "stream",
     "text": [
      "2021-08-17T17:05:12Z // The group says it will allow Afghan women to work and study, assures media workers they will be protected. // The Taliban is promising to protect womens rights and press freedom in the groups first news conference following its stunning takeover of Afghanistan as the groups co-founder returned to the country… [+2419 chars] // http://www.aljazeera.com/news/2021/8/17/taliban-says-will-respect-womens-rights-press-freedom\n"
     ]
    },
    {
     "data": {
      "text/html": [
       "<img src=https://www.aljazeera.com/wp-content/uploads/2021/08/2021-08-17T010432Z_2014264219_RC2K6P9PEN6Z_RTRMADP_3_AFGHANISTAN-CONFLICT-1-1.jpg?resize=1200%2C630 width=\"100%\" height=\"auto\">"
      ],
      "text/plain": [
       "<IPython.core.display.HTML object>"
      ]
     },
     "metadata": {},
     "output_type": "display_data"
    },
    {
     "data": {
      "text/html": [
       " <span style=\"color:red\"><h1>In Pictures: Evacuation flights resume at Kabul airport</h1> </span>  "
      ],
      "text/plain": [
       "<IPython.core.display.HTML object>"
      ]
     },
     "metadata": {},
     "output_type": "display_data"
    },
    {
     "name": "stdout",
     "output_type": "stream",
     "text": [
      "2021-08-17T14:02:16Z // Military planes resume evacuation from Afghanistan a day after the runway was crowded with people trying to flee. // Military flights evacuating diplomats and civilians from Afghanistan resumed early on Tuesday after the runway at Kabul airport was cleared of thousands of people desperate to flee after the Taliban … [+1033 chars] // http://www.aljazeera.com/gallery/2021/8/17/evacuation-flights-resume-at-kabul-airport\n"
     ]
    },
    {
     "data": {
      "text/html": [
       "<img src=https://www.aljazeera.com/wp-content/uploads/2021/08/AP21166356540415.jpg?resize=1200%2C630 width=\"100%\" height=\"auto\">"
      ],
      "text/plain": [
       "<IPython.core.display.HTML object>"
      ]
     },
     "metadata": {},
     "output_type": "display_data"
    },
    {
     "data": {
      "text/html": [
       " <span style=\"color:red\"><h1>Will the Taliban takeover lead to a new European refugee crisis?</h1> </span>  "
      ],
      "text/plain": [
       "<IPython.core.display.HTML object>"
      ]
     },
     "metadata": {},
     "output_type": "display_data"
    },
    {
     "name": "stdout",
     "output_type": "stream",
     "text": [
      "2021-08-17T13:47:43Z // Since 2015, European nations have fortified their borders, meaning large flows of refugees are unlikely, analysts say. // As European countries scramble to react to the Talibans rapid takeover of Afghanistan, debates are emerging about whether the continent will experience a major increase in asylum seekers.\r\n",
      "Amid scene… [+7264 chars] // http://www.aljazeera.com/news/2021/8/17/will-the-taliban-takeover-lead-to-a-european-refugee-crisis\n"
     ]
    },
    {
     "data": {
      "text/html": [
       "<img src=https://www.aljazeera.com/wp-content/uploads/2021/08/INTERACTIVE_KABUL_AIRPORT2-01.jpg?resize=1200%2C630 width=\"100%\" height=\"auto\">"
      ],
      "text/plain": [
       "<IPython.core.display.HTML object>"
      ]
     },
     "metadata": {},
     "output_type": "display_data"
    },
    {
     "data": {
      "text/html": [
       " <span style=\"color:red\"><h1>Infographic: Tracking the flights out of Kabul</h1> </span>  "
      ],
      "text/plain": [
       "<IPython.core.display.HTML object>"
      ]
     },
     "metadata": {},
     "output_type": "display_data"
    },
    {
     "name": "stdout",
     "output_type": "stream",
     "text": [
      "2021-08-17T13:41:20Z // Air travel in Afghanistan is now limited to military aircraft evacuating foreigners and some Afghan nationals. // Scenes of desperation in Kabuls Hamid Karzai International Airport have haunted the world as people try to leave Afghanistan and governments try to get their citizens and affiliated Afghan nationals … [+2277 chars] // http://www.aljazeera.com/news/2021/8/17/infographic-tracking-the-flights-out-of-kabul-interactive\n"
     ]
    },
    {
     "data": {
      "text/html": [
       "<img src=https://www.aljazeera.com/wp-content/uploads/2021/08/000_9L88WE.jpg?resize=1200%2C630 width=\"100%\" height=\"auto\">"
      ],
      "text/plain": [
       "<IPython.core.display.HTML object>"
      ]
     },
     "metadata": {},
     "output_type": "display_data"
    },
    {
     "data": {
      "text/html": [
       " <span style=\"color:red\"><h1>Evacuation flights resume as Biden defends Afghanistan pullout</h1> </span>  "
      ],
      "text/plain": [
       "<IPython.core.display.HTML object>"
      ]
     },
     "metadata": {},
     "output_type": "display_data"
    },
    {
     "name": "stdout",
     "output_type": "stream",
     "text": [
      "2021-08-17T04:09:49Z // Military evacuation flights resume as Joe Biden says he ‘stands squarely’ behind decision to withdraw US troops. // Evacuation flights from Afghanistan have resumed a day after the Talibans military takeover triggered panic in Kabul and thousands mobbed the citys international airport in a desperate attempt to fle… [+6168 chars] // http://www.aljazeera.com/news/2021/8/17/evacuation-flights-resume-as-biden-defends-afghanistan-pullout\n"
     ]
    },
    {
     "data": {
      "text/html": [
       "<img src=https://cdn.arstechnica.net/wp-content/uploads/2021/08/flicktype-760x380.png width=\"100%\" height=\"auto\">"
      ],
      "text/plain": [
       "<IPython.core.display.HTML object>"
      ]
     },
     "metadata": {},
     "output_type": "display_data"
    },
    {
     "data": {
      "text/html": [
       " <span style=\"color:red\"><h1>iPhone keyboard for blind to shut down as maker cites Apple “abuse” of developers</h1> </span>  "
      ],
      "text/plain": [
       "<IPython.core.display.HTML object>"
      ]
     },
     "metadata": {},
     "output_type": "display_data"
    },
    {
     "name": "stdout",
     "output_type": "stream",
     "text": [
      "2021-08-17T20:29:56+00:00 // Apple falsely claimed that FlickType broke \"full access\" rule, developer says. // Enlarge/ FlickType iPhone keyboard.\r\n",
      "30 with 24 posters participating\r\n",
      "An iPhone keyboard for blind users will be discontinued, according to the app's developer, who alleges that \"Apple has thrown us… [+7870 chars] // https://arstechnica.com/tech-policy/2021/08/iphone-keyboard-for-blind-to-shut-down-as-maker-cites-apple-abuse-of-developers/\n"
     ]
    },
    {
     "data": {
      "text/html": [
       "<img src=https://cdn.arstechnica.net/wp-content/uploads/2021/08/spaceshipwarlock.jpg width=\"100%\" height=\"auto\">"
      ],
      "text/plain": [
       "<IPython.core.display.HTML object>"
      ]
     },
     "metadata": {},
     "output_type": "display_data"
    },
    {
     "data": {
      "text/html": [
       " <span style=\"color:red\"><h1>It’s now possible to play early ‘90s CD-ROM games via ScummVM</h1> </span>  "
      ],
      "text/plain": [
       "<IPython.core.display.HTML object>"
      ]
     },
     "metadata": {},
     "output_type": "display_data"
    },
    {
     "name": "stdout",
     "output_type": "stream",
     "text": [
      "2021-08-17T20:06:50+00:00 // Easily play Windows 3.1 CD games in a Windows 10 environment. // Project Starship's frog cops out in force.\r\n",
      "24 with 22 posters participating\r\n",
      "The ScummVM community has just made the early CD-ROM gaming era more accessible. For five years, multiple people have wor… [+2412 chars] // https://arstechnica.com/gaming/2021/08/scummvm-now-supports-macromedia-director-for-early-cd-rom-games/\n"
     ]
    },
    {
     "data": {
      "text/html": [
       "<img src=https://cdn.arstechnica.net/wp-content/uploads/2021/08/GettyImages-1268613159-760x380.jpg width=\"100%\" height=\"auto\">"
      ],
      "text/plain": [
       "<IPython.core.display.HTML object>"
      ]
     },
     "metadata": {},
     "output_type": "display_data"
    },
    {
     "data": {
      "text/html": [
       " <span style=\"color:red\"><h1>Climate tipping points add to the cost of carbon emissions</h1> </span>  "
      ],
      "text/plain": [
       "<IPython.core.display.HTML object>"
      ]
     },
     "metadata": {},
     "output_type": "display_data"
    },
    {
     "name": "stdout",
     "output_type": "stream",
     "text": [
      "2021-08-17T19:46:09+00:00 // The presence of tipping points adds to uncertainty, risk, and actual costs. // Enlarge/ The destabilization of ice sheets in West Antarctica would be a major climate tipping point.\r\n",
      "29 with 19 posters participating\r\n",
      "Rising temperatures are producing some very predictable effect… [+6374 chars] // https://arstechnica.com/science/2021/08/climate-tipping-points-add-to-the-cost-of-carbon-emissions/\n"
     ]
    },
    {
     "data": {
      "text/html": [
       "<img src=https://cdn.arstechnica.net/wp-content/uploads/2021/08/whatsapp-760x380.jpg width=\"100%\" height=\"auto\">"
      ],
      "text/plain": [
       "<IPython.core.display.HTML object>"
      ]
     },
     "metadata": {},
     "output_type": "display_data"
    },
    {
     "data": {
      "text/html": [
       " <span style=\"color:red\"><h1>WhatsApp shuts down Taliban helpline in Kabul</h1> </span>  "
      ],
      "text/plain": [
       "<IPython.core.display.HTML object>"
      ]
     },
     "metadata": {},
     "output_type": "display_data"
    },
    {
     "name": "stdout",
     "output_type": "stream",
     "text": [
      "2021-08-17T19:07:55+00:00 // It's meant to act as emergency hotline for civilians to report violence and looting. // Enlarge/ Experts in the region said shutting down the WhatsApp numbers was \"absurd\" and \"unhelpful.\"\r\n",
      "72 with 45 posters participating\r\n",
      "WhatsApp has shut down a complaints helpline set up by the Tali… [+4142 chars] // https://www.ft.com/content/d8e29de8-aebb-4f10-a91e-89d454d4a9f7\n"
     ]
    },
    {
     "data": {
      "text/html": [
       "<img src=https://cdn.arstechnica.net/wp-content/uploads/2021/08/25-760x380.jpg width=\"100%\" height=\"auto\">"
      ],
      "text/plain": [
       "<IPython.core.display.HTML object>"
      ]
     },
     "metadata": {},
     "output_type": "display_data"
    },
    {
     "data": {
      "text/html": [
       " <span style=\"color:red\"><h1>The Google Pixel 5a is $449, adds a bigger screen and water resistance</h1> </span>  "
      ],
      "text/plain": [
       "<IPython.core.display.HTML object>"
      ]
     },
     "metadata": {},
     "output_type": "display_data"
    },
    {
     "name": "stdout",
     "output_type": "stream",
     "text": [
      "2021-08-17T17:31:20+00:00 // The Pixel 5a will be a good phone—if you're in the two countries that can get it. // 87 with 70 posters participating\r\n",
      "<ul><li>\r\n",
      "</li><li>\r\n",
      " A clear shot of the back. \r\n",
      "</li><li>\r\n",
      " The $700 Pixel 5 doesn't look great compared to the $450 Pixel 5a, but it at least has a 90 Hz display.… [+3365 chars] // https://arstechnica.com/gadgets/2021/08/the-google-pixel-5a-is-449-adds-a-bigger-screen-and-water-resistance/\n"
     ]
    },
    {
     "data": {
      "text/html": [
       "<img src=https://cdn.arstechnica.net/wp-content/uploads/2021/08/Screen-Shot-2021-08-17-at-12-1.11.14-PM-760x380.jpg width=\"100%\" height=\"auto\">"
      ],
      "text/plain": [
       "<IPython.core.display.HTML object>"
      ]
     },
     "metadata": {},
     "output_type": "display_data"
    },
    {
     "data": {
      "text/html": [
       " <span style=\"color:red\"><h1>Exploding power supplies are now the worst thing about the Newegg Shuffle</h1> </span>  "
      ],
      "text/plain": [
       "<IPython.core.display.HTML object>"
      ]
     },
     "metadata": {},
     "output_type": "display_data"
    },
    {
     "name": "stdout",
     "output_type": "stream",
     "text": [
      "2021-08-17T17:17:54+00:00 // Newegg bundled bad Gigabyte GP-P850GM and GP-P750GM PSUs with hard-to-buy GPUs. // Enlarge/ A Gigabyte power supply explodes during Gamers Nexus' testing. \r\n",
      "112 with 78 posters participating\r\n",
      "If you've been trying to buy a GPU this year, you may be familiar with the Newegg Shuffle,… [+3663 chars] // https://arstechnica.com/gadgets/2021/08/gigabyte-will-replace-exploding-power-supplies-newegg-sold-to-desperate-gpu-buyers/\n"
     ]
    },
    {
     "data": {
      "text/html": [
       "<img src=https://cdn.arstechnica.net/wp-content/uploads/2021/08/PIA24797-Flight12-760x380.jpg width=\"100%\" height=\"auto\">"
      ],
      "text/plain": [
       "<IPython.core.display.HTML object>"
      ]
     },
     "metadata": {},
     "output_type": "display_data"
    },
    {
     "data": {
      "text/html": [
       " <span style=\"color:red\"><h1>After a dozen flights, NASA’s chopper has yet to come a cropper</h1> </span>  "
      ],
      "text/plain": [
       "<IPython.core.display.HTML object>"
      ]
     },
     "metadata": {},
     "output_type": "display_data"
    },
    {
     "name": "stdout",
     "output_type": "stream",
     "text": [
      "2021-08-17T17:08:52+00:00 // Kitty Hawk a century ago. Mars today. Where 100 years from now? // Enlarge/ This image depicts the ground tracks of NASAs Perseverance rover (white) and Ingenuity Mars Helicopter (green) since arriving on Mars on Feb. 18. The upper yellow ellipse depicts the South S… [+2423 chars] // https://arstechnica.com/science/2021/08/after-a-dozen-flights-nasas-chopper-has-yet-to-come-a-cropper/\n"
     ]
    },
    {
     "data": {
      "text/html": [
       "<img src=https://cdn.arstechnica.net/wp-content/uploads/2021/08/GettyImages-1233724898-760x380.jpg width=\"100%\" height=\"auto\">"
      ],
      "text/plain": [
       "<IPython.core.display.HTML object>"
      ]
     },
     "metadata": {},
     "output_type": "display_data"
    },
    {
     "data": {
      "text/html": [
       " <span style=\"color:red\"><h1>Colorado River drops to record low levels, slashing Arizona’s water supply</h1> </span>  "
      ],
      "text/plain": [
       "<IPython.core.display.HTML object>"
      ]
     },
     "metadata": {},
     "output_type": "display_data"
    },
    {
     "name": "stdout",
     "output_type": "stream",
     "text": [
      "2021-08-17T17:04:46+00:00 // This year's likely La Niña expected to extend drought, spurring further cuts. // Enlarge/ A dock, which has become unusable as a worsening drought drops the water level of Lake Mead to new historic low records, is seen at South Cove near the upper reaches of the reservoir near Me… [+3822 chars] // https://arstechnica.com/science/2021/08/colorado-river-drops-to-record-low-levels-slashing-arizonas-water-supply/\n"
     ]
    },
    {
     "data": {
      "text/html": [
       "<img src=https://cdn.arstechnica.net/wp-content/uploads/2021/08/chrome_qfQmzHPZ0u-760x380.jpg width=\"100%\" height=\"auto\">"
      ],
      "text/plain": [
       "<IPython.core.display.HTML object>"
      ]
     },
     "metadata": {},
     "output_type": "display_data"
    },
    {
     "data": {
      "text/html": [
       " <span style=\"color:red\"><h1>Boston Dynamics shares an incredible behind-the-scenes look at robot-building</h1> </span>  "
      ],
      "text/plain": [
       "<IPython.core.display.HTML object>"
      ]
     },
     "metadata": {},
     "output_type": "display_data"
    },
    {
     "name": "stdout",
     "output_type": "stream",
     "text": [
      "2021-08-17T16:40:56+00:00 // Humanoid robot learns parkour, takes some gnarly slams, and gets repaired. // 68 with 56 posters participating\r\n",
      "<ul><li>\r\n",
      " Atlas, Boston Dynamics' humanoid research platform, is all scratched up after some parkour practice. \r\n",
      "</li><li>\r\n",
      " This will buff out, right? \r\n",
      "</li><li>\r",
      "… [+6858 chars] // https://arstechnica.com/gadgets/2021/08/boston-dynamics-shares-an-incredible-behind-the-scenes-look-at-robot-building/\n"
     ]
    },
    {
     "data": {
      "text/html": [
       "<img src=https://cdn.arstechnica.net/wp-content/uploads/2021/08/Screen-Shot-2021-08-17-at-10.15.25-AM-760x380.png width=\"100%\" height=\"auto\">"
      ],
      "text/plain": [
       "<IPython.core.display.HTML object>"
      ]
     },
     "metadata": {},
     "output_type": "display_data"
    },
    {
     "data": {
      "text/html": [
       " <span style=\"color:red\"><h1>Anime studios and an all-star cast combine for Star Wars: Visions</h1> </span>  "
      ],
      "text/plain": [
       "<IPython.core.display.HTML object>"
      ]
     },
     "metadata": {},
     "output_type": "display_data"
    },
    {
     "name": "stdout",
     "output_type": "stream",
     "text": [
      "2021-08-17T15:38:35+00:00 // The series of 9 animated shorts starts streaming on Disney+ on September 22. // 50 with 39 posters participating\r\n",
      "<ul><li>Star Wars: Visions is a series of nine short films from seven Japanese anime studios. \r\n",
      "</li><li>\r\n",
      " Someone's getting stunned. \r\n",
      "</li><li>\r\n",
      " I don't think th… [+2515 chars] // https://arstechnica.com/gaming/2021/08/anime-studios-and-an-all-star-cast-combine-for-star-wars-visions/\n"
     ]
    },
    {
     "data": {
      "text/html": [
       "<img src=https://ichef.bbci.co.uk/news/1024/branded_news/1096/production/_119964240_241d926d-fcbb-4f9d-8af8-cab0d334cec7.jpg width=\"100%\" height=\"auto\">"
      ],
      "text/plain": [
       "<IPython.core.display.HTML object>"
      ]
     },
     "metadata": {},
     "output_type": "display_data"
    },
    {
     "data": {
      "text/html": [
       " <span style=\"color:red\"><h1>France wildfire: Thousands evacuated as blaze rages near Riviera</h1> </span>  "
      ],
      "text/plain": [
       "<IPython.core.display.HTML object>"
      ]
     },
     "metadata": {},
     "output_type": "display_data"
    },
    {
     "name": "stdout",
     "output_type": "stream",
     "text": [
      "2021-08-17T21:22:33.001559Z // Firefighters clear campsites in the Var region as some 5,000 hectares are destroyed by fire. // image captionLocal officials say more than 900 firefighters have been mobilised to tackle the wildfire in southern France\r\n",
      "Thousands of people, including tourists in campsites, have been moved to saf… [+3835 chars] // http://www.bbc.co.uk/news/world-europe-58243066\n"
     ]
    },
    {
     "data": {
      "text/html": [
       "<img src=https://ichef.bbci.co.uk/news/1024/branded_news/17148/production/_119963549_gettyimages-1233992620.jpg width=\"100%\" height=\"auto\">"
      ],
      "text/plain": [
       "<IPython.core.display.HTML object>"
      ]
     },
     "metadata": {},
     "output_type": "display_data"
    },
    {
     "data": {
      "text/html": [
       " <span style=\"color:red\"><h1>Mastercard to end magnetic strip on cards</h1> </span>  "
      ],
      "text/plain": [
       "<IPython.core.display.HTML object>"
      ]
     },
     "metadata": {},
     "output_type": "display_data"
    },
    {
     "name": "stdout",
     "output_type": "stream",
     "text": [
      "2021-08-17T21:22:29.143147Z // The company sets an expiry date of 2033 for the decades-old technology. // Mastercard is to stop issuing cards with a magnetic strip.\r\n",
      "By 2033, none of its debit or credit cards will have a strip, with banks in many regions including Europe able to issue the strip-less card… [+1492 chars] // http://www.bbc.co.uk/news/technology-58206591\n"
     ]
    },
    {
     "data": {
      "text/html": [
       "<img src=https://ichef.bbci.co.uk/news/1024/branded_news/4021/production/_119971461_gettyimages-470548659.jpg width=\"100%\" height=\"auto\">"
      ],
      "text/plain": [
       "<IPython.core.display.HTML object>"
      ]
     },
     "metadata": {},
     "output_type": "display_data"
    },
    {
     "data": {
      "text/html": [
       " <span style=\"color:red\"><h1>California man sues after being startled by dumpster-diving bear</h1> </span>  "
      ],
      "text/plain": [
       "<IPython.core.display.HTML object>"
      ]
     },
     "metadata": {},
     "output_type": "display_data"
    },
    {
     "name": "stdout",
     "output_type": "stream",
     "text": [
      "2021-08-17T21:22:26.7374939Z // A dumpster-diving bear allegedly \"startled\" the man and caused him to fall and hurt himself. // image captionDumpsters in the area are required to have wildlife-proof latches\r\n",
      "One man's rubbish is another bear's treasure, and the resulting shock is not fun for either, a new lawsuit says.\r\n",
      "A Cal… [+1829 chars] // http://www.bbc.co.uk/news/world-us-canada-58250366\n"
     ]
    },
    {
     "data": {
      "text/html": [
       "<img src=https://ichef.bbci.co.uk/news/1024/branded_news/C4BE/production/_119966305_976_gettyimages-153056729.jpg width=\"100%\" height=\"auto\">"
      ],
      "text/plain": [
       "<IPython.core.display.HTML object>"
      ]
     },
     "metadata": {},
     "output_type": "display_data"
    },
    {
     "data": {
      "text/html": [
       " <span style=\"color:red\"><h1>Sudoku: Maki Kaji, puzzle enthusiast, dies aged 69</h1> </span>  "
      ],
      "text/plain": [
       "<IPython.core.display.HTML object>"
      ]
     },
     "metadata": {},
     "output_type": "display_data"
    },
    {
     "name": "stdout",
     "output_type": "stream",
     "text": [
      "2021-08-17T21:22:20.6921229Z // The Japanese puzzle enthusiast helped popularise the number game, leading to its global success. // image captionMaki Kaji, pictured here in 2007, is credited as popularising the Sudoku puzzle game\r\n",
      "Maki Kaji, the Japanese man known as the \"Godfather of Sudoku\", has died at the age of 69.\r\n",
      "Kaji gav… [+2335 chars] // http://www.bbc.co.uk/news/world-asia-58243126\n"
     ]
    },
    {
     "data": {
      "text/html": [
       "<img src=https://ichef.bbci.co.uk/news/1024/branded_news/6DF2/production/_119964182_mediaitem119964181.jpg width=\"100%\" height=\"auto\">"
      ],
      "text/plain": [
       "<IPython.core.display.HTML object>"
      ]
     },
     "metadata": {},
     "output_type": "display_data"
    },
    {
     "data": {
      "text/html": [
       " <span style=\"color:red\"><h1>Haiti earthquake: Tropical Storm Grace hampers rescue</h1> </span>  "
      ],
      "text/plain": [
       "<IPython.core.display.HTML object>"
      ]
     },
     "metadata": {},
     "output_type": "display_data"
    },
    {
     "name": "stdout",
     "output_type": "stream",
     "text": [
      "2021-08-17T20:22:21.6777977Z // Tropical Storm Grace has dumped heavy rain on Haiti just days after a tremor left at least 1,419 dead. // image captionRescue workers in Les Cayes raced to find survivors before Tropical Storm Grace hit\r\n",
      "Rescue work following the deadly earthquake which struck Haiti on Saturday has been hampered by heavy… [+3234 chars] // http://www.bbc.co.uk/news/world-latin-america-58222888\n"
     ]
    },
    {
     "data": {
      "text/html": [
       "<img src=https://ichef.bbci.co.uk/news/1024/branded_news/C794/production/_119629015_i3_herculesa_timmerman.jpg width=\"100%\" height=\"auto\">"
      ],
      "text/plain": [
       "<IPython.core.display.HTML object>"
      ]
     },
     "metadata": {},
     "output_type": "display_data"
    },
    {
     "data": {
      "text/html": [
       " <span style=\"color:red\"><h1>Astronomers see galaxies in ultra-high definition</h1> </span>  "
      ],
      "text/plain": [
       "<IPython.core.display.HTML object>"
      ]
     },
     "metadata": {},
     "output_type": "display_data"
    },
    {
     "name": "stdout",
     "output_type": "stream",
     "text": [
      "2021-08-17T19:22:17.0921018Z // Researchers capture some of the most detailed images ever seen of galaxies in deep space. // By Pallab GhoshScience correspondent\r\n",
      "image sourceR. Timmerman/LOFAR\r\n",
      "image captionA supermassive black hole at the centre of a galaxy, seen faintly in the centre, shoots out jets of material across … [+5990 chars] // http://www.bbc.co.uk/news/science-environment-57998940\n"
     ]
    },
    {
     "data": {
      "text/html": [
       "<img src=https://ichef.bbci.co.uk/news/1024/branded_news/559D/production/_119971912_gettyimages-1233965770-1.jpg width=\"100%\" height=\"auto\">"
      ],
      "text/plain": [
       "<IPython.core.display.HTML object>"
      ]
     },
     "metadata": {},
     "output_type": "display_data"
    },
    {
     "data": {
      "text/html": [
       " <span style=\"color:red\"><h1>Afghan women to have rights within Islamic law, Taliban says</h1> </span>  "
      ],
      "text/plain": [
       "<IPython.core.display.HTML object>"
      ]
     },
     "metadata": {},
     "output_type": "display_data"
    },
    {
     "name": "stdout",
     "output_type": "stream",
     "text": [
      "2021-08-17T18:22:23.5288777Z // The militant group, which has taken control of Afghanistan, is pressed on fears over women's freedoms. // media captionWatch the key moments from the Taliban's news conference\r\n",
      "The rights of women in Afghanistan will be respected \"within the framework of Islamic law\", the Taliban says.\r\n",
      "In the group's fi… [+4120 chars] // http://www.bbc.co.uk/news/world-asia-58249952\n"
     ]
    },
    {
     "data": {
      "text/html": [
       "<img src=https://ichef.bbci.co.uk/news/1024/branded_news/F934/production/_119969736_gettyimages-1233759073.jpg width=\"100%\" height=\"auto\">"
      ],
      "text/plain": [
       "<IPython.core.display.HTML object>"
      ]
     },
     "metadata": {},
     "output_type": "display_data"
    },
    {
     "data": {
      "text/html": [
       " <span style=\"color:red\"><h1>Colorado River: First-ever shortage declared amid record US drought</h1> </span>  "
      ],
      "text/plain": [
       "<IPython.core.display.HTML object>"
      ]
     },
     "metadata": {},
     "output_type": "display_data"
    },
    {
     "name": "stdout",
     "output_type": "stream",
     "text": [
      "2021-08-17T16:07:19.8196314Z // Droughts have led to the first water shortage on a river millions in the US and Mexico rely on. // media captionDrought hits the Hoover Dam: The US's largest reservoir fell to the lowest level in history.\r\n",
      "For the first time ever, the US government has declared a water shortage on the Colorado Riv… [+1912 chars] // http://www.bbc.co.uk/news/world-us-canada-58248634\n"
     ]
    },
    {
     "data": {
      "text/html": [
       "<img src=https://ichef.bbci.co.uk/news/1024/branded_news/16266/production/_119962709_gettyimages-1173124314.jpg width=\"100%\" height=\"auto\">"
      ],
      "text/plain": [
       "<IPython.core.display.HTML object>"
      ]
     },
     "metadata": {},
     "output_type": "display_data"
    },
    {
     "data": {
      "text/html": [
       " <span style=\"color:red\"><h1>Lily Cole: Model apologises for posing in a burka on Instagram</h1> </span>  "
      ],
      "text/plain": [
       "<IPython.core.display.HTML object>"
      ]
     },
     "metadata": {},
     "output_type": "display_data"
    },
    {
     "name": "stdout",
     "output_type": "stream",
     "text": [
      "2021-08-17T13:37:22.9748189Z // The model and activist posted a picture of herself in a burka as a way to \"embrace diversity\". // image captionCole was accused of \"putting Instagram posturing before universal human rights\"\r\n",
      "Model, actress and activist Lily Cole has apologised for posting a picture of herself in a burka as a way… [+3705 chars] // http://www.bbc.co.uk/news/entertainment-arts-58245304\n"
     ]
    },
    {
     "data": {
      "text/html": [
       "<img src=https://ichef.bbci.co.uk/news/1024/branded_news/0C2C/production/_119961130_gettyimages-1334592755.jpg width=\"100%\" height=\"auto\">"
      ],
      "text/plain": [
       "<IPython.core.display.HTML object>"
      ]
     },
     "metadata": {},
     "output_type": "display_data"
    },
    {
     "data": {
      "text/html": [
       " <span style=\"color:red\"><h1>New Zealand enters nationwide lockdown over one Covid case</h1> </span>  "
      ],
      "text/plain": [
       "<IPython.core.display.HTML object>"
      ]
     },
     "metadata": {},
     "output_type": "display_data"
    },
    {
     "name": "stdout",
     "output_type": "stream",
     "text": [
      "2021-08-17T09:37:24.4877771Z // Authorities say they are still running tests, but are assuming it is a case of the Delta variant. // image captionNew Zealand has been largely successful in eliminating the virus from within its borders\r\n",
      "New Zealand has announced a snap lockdown after a man tested positive for Covid, the first case … [+1925 chars] // http://www.bbc.co.uk/news/world-asia-58241619\n"
     ]
    }
   ],
   "source": [
    "try:\n",
    "    for i in range (4):\n",
    "        njson = api.get_top_headlines(sources=random.choice(idsx))\n",
    "        njson = pd.DataFrame.from_dict(njson, orient = 'columns')\n",
    "        njson2 = njson.join(pd.DataFrame(njson['articles'].tolist()).fillna(0))\n",
    "        for index, row in njson2.iterrows():\n",
    "            string = ('<img src=' + row['urlToImage'] + ' width=\"100%\" height=\"auto\">')\n",
    "            display(HTML(string))\n",
    "            string1 = (' <span style=\"color:red\"><h1>'  + row['title'] +'</h1> </span>  ')\n",
    "            display(HTML(string1))\n",
    "            print(row['publishedAt'], '//', row['description'], '//', row['content'], '//', row['url'])\n",
    "except TypeError:\n",
    "    pass"
   ]
  },
  {
   "cell_type": "code",
   "execution_count": null,
   "metadata": {
    "scrolled": false
   },
   "outputs": [],
   "source": []
  },
  {
   "cell_type": "code",
   "execution_count": null,
   "metadata": {
    "scrolled": true
   },
   "outputs": [],
   "source": []
  },
  {
   "cell_type": "code",
   "execution_count": null,
   "metadata": {},
   "outputs": [],
   "source": []
  },
  {
   "cell_type": "code",
   "execution_count": null,
   "metadata": {},
   "outputs": [],
   "source": []
  }
 ],
 "metadata": {
  "kernelspec": {
   "display_name": "Python 3",
   "language": "python",
   "name": "python3"
  },
  "language_info": {
   "codemirror_mode": {
    "name": "ipython",
    "version": 3
   },
   "file_extension": ".py",
   "mimetype": "text/x-python",
   "name": "python",
   "nbconvert_exporter": "python",
   "pygments_lexer": "ipython3",
   "version": "3.8.3"
  }
 },
 "nbformat": 4,
 "nbformat_minor": 4
}
